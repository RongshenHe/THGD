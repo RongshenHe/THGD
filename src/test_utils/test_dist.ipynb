{
 "cells": [
  {
   "cell_type": "code",
   "execution_count": 1,
   "metadata": {},
   "outputs": [],
   "source": [
    "from tqdm import tqdm\n",
    "from rdkit import Chem\n",
    "from rdkit.Chem.rdchem import BondType as BT\n",
    "from src.datasets.dataset_utils import to_nx\n",
    "import pandas as pd\n",
    "from joblib import Parallel, delayed\n",
    "from collections import Counter\n",
    "import numpy as np"
   ]
  },
  {
   "cell_type": "code",
   "execution_count": 4,
   "metadata": {},
   "outputs": [
    {
     "name": "stderr",
     "output_type": "stream",
     "text": [
      "  0%|          | 0/76353 [00:00<?, ?it/s]"
     ]
    },
    {
     "name": "stderr",
     "output_type": "stream",
     "text": [
      "100%|██████████| 76353/76353 [00:25<00:00, 3034.32it/s]\n",
      "100%|██████████| 76353/76353 [00:05<00:00, 13299.18it/s]"
     ]
    },
    {
     "name": "stdout",
     "output_type": "stream",
     "text": [
      "All unique atom types in the dataset:\n",
      "{'O', 'P', 'Si', 'C', 'N', 'F', 'S'}\n"
     ]
    },
    {
     "name": "stderr",
     "output_type": "stream",
     "text": [
      "\n"
     ]
    }
   ],
   "source": [
    "from rdkit import Chem\n",
    "from tqdm import tqdm\n",
    "\n",
    "# 读取数据文件\n",
    "data = open('/data2/chensm22/HRS/data/polymers/train.txt').readlines()\n",
    "\n",
    "# 解析每个分子的 SMILES 字符串\n",
    "mols = [Chem.MolFromSmiles(s.strip()) for s in tqdm(data)]\n",
    "\n",
    "# 使用集合去重存储所有出现的原子类型\n",
    "atom_types = set()\n",
    "\n",
    "# 遍历每个分子，获取其中的原子类型\n",
    "for mol in tqdm(mols):\n",
    "    if mol is not None:  # 确保分子解析成功\n",
    "        for atom in mol.GetAtoms():\n",
    "            atom_types.add(atom.GetSymbol())  # 获取原子的元素符号并加入集合\n",
    "\n",
    "# 打印所有不同的原子类型\n",
    "print(\"All unique atom types in the dataset:\")\n",
    "print(atom_types)\n"
   ]
  },
  {
   "cell_type": "code",
   "execution_count": 7,
   "metadata": {},
   "outputs": [
    {
     "name": "stdout",
     "output_type": "stream",
     "text": [
      "Converting smiles...\n"
     ]
    },
    {
     "name": "stderr",
     "output_type": "stream",
     "text": [
      "100%|██████████| 76353/76353 [00:30<00:00, 2540.61it/s]\n"
     ]
    }
   ],
   "source": [
    "# atom_encoder = {'H': 0, 'C': 1, 'N': 2, 'O': 3, 'F': 4}\n",
    "# atom_decoder = ['H', 'C', 'N', 'O', 'F']\n",
    "# bonds = {None:0, BT.SINGLE: 1, BT.DOUBLE: 2, BT.TRIPLE: 3, BT.AROMATIC: 4}\n",
    "atom_encoder = {'C': 0, 'N': 1, 'O': 2, 'F': 3, 'Br': 4, 'Cl': 5, 'I': 6, 'P': 7, 'S': 8}\n",
    "atom_decoder = ['C', 'N', 'O', 'F', 'Cl', 'I', 'P', 'S']\n",
    "\n",
    "atom_encoder = {'C': 0, 'N': 1, 'O':2,  'F': 3, 'P': 4, 'S':5, 'Si': 6}\n",
    "atom_decoder = ['C', 'N', 'O', 'F', 'P', 'S', 'Si']\n",
    "bonds = {None:0, BT.SINGLE: 1, BT.DOUBLE: 2, BT.TRIPLE: 3, BT.AROMATIC: 4}\n",
    "\n",
    "# suppl = Chem.SDMolSupplier('/data2/chensm22/HRS/data/qm9/qm9_pyg/raw/gdb9.sdf', removeHs=False, sanitize=False)\n",
    "# graphs = []\n",
    "# for i, s in enumerate(tqdm(suppl)):\n",
    "#     G = to_nx(s,atom_encoder, bonds)\n",
    "#     graphs.append(G)\n",
    "\n",
    "graphs = []\n",
    "# splits = [0,240000,245000,-1]\n",
    "# df = pd.read_csv('/data2/chensm22/HRS/data/zinc250k/zinc250k_property.csv')\n",
    "# smile_list = df.loc[splits[0]:splits[0+1],'smile']\n",
    "\n",
    "smile_list = open('/data2/chensm22/HRS/data/polymers/raw/train.txt').readlines()\n",
    "\n",
    "print(\"Converting smiles...\")\n",
    "graphs = Parallel(n_jobs=-1, batch_size='auto')(\n",
    "    delayed(to_nx)(s, atom_encoder, bonds) for s in tqdm(smile_list)\n",
    ")\n"
   ]
  },
  {
   "cell_type": "code",
   "execution_count": 8,
   "metadata": {},
   "outputs": [
    {
     "data": {
      "text/plain": [
       "(51.01616177491389, 122, 5)"
      ]
     },
     "execution_count": 8,
     "metadata": {},
     "output_type": "execute_result"
    }
   ],
   "source": [
    "max_nodes = max(graphs,key=lambda g: g.number_of_nodes()).number_of_nodes()\n",
    "min_nodes = min(graphs,key=lambda g: g.number_of_nodes()).number_of_nodes()\n",
    "avg_nodes = sum(g.number_of_nodes() for g in graphs) / len(graphs)\n",
    "avg_nodes, max_nodes, min_nodes"
   ]
  },
  {
   "cell_type": "code",
   "execution_count": 9,
   "metadata": {},
   "outputs": [
    {
     "data": {
      "text/plain": [
       "(array([  5,   6,   7,   8,   9,  10,  11,  12,  13,  14,  15,  16,  17,\n",
       "         18,  19,  20,  21,  22,  23,  24,  25,  26,  27,  28,  29,  30,\n",
       "         31,  32,  33,  34,  35,  36,  37,  38,  39,  40,  41,  42,  43,\n",
       "         44,  45,  46,  47,  48,  49,  50,  51,  52,  53,  54,  55,  56,\n",
       "         57,  58,  59,  60,  61,  62,  63,  64,  65,  66,  67,  68,  69,\n",
       "         70,  71,  72,  73,  74,  75,  76,  77,  78,  79,  80,  81,  82,\n",
       "         83,  84,  85,  86,  87,  88,  89,  90,  91,  92,  93,  94,  95,\n",
       "         96,  97,  98,  99, 100, 101, 102, 103, 104, 105, 106, 107, 108,\n",
       "        109, 110, 111, 112, 113, 114, 115, 116, 118, 120, 121, 122]),\n",
       " array([1.30970623e-05, 1.30970623e-05, 2.61941247e-05, 2.61941247e-05,\n",
       "        7.85823740e-05, 1.17873561e-04, 1.04776499e-04, 1.96455935e-04,\n",
       "        2.75038309e-04, 4.06008932e-04, 5.10785431e-04, 9.03697301e-04,\n",
       "        9.16794363e-04, 1.17873561e-03, 1.13944442e-03, 1.32280330e-03,\n",
       "        1.67642398e-03, 2.89445077e-03, 3.45762445e-03, 4.78042775e-03,\n",
       "        5.77580449e-03, 7.46532553e-03, 7.72726677e-03, 1.02811939e-02,\n",
       "        1.04252616e-02, 1.41972156e-02, 1.32935183e-02, 1.82180137e-02,\n",
       "        1.65546868e-02, 2.20685500e-02, 1.96193994e-02, 2.56571451e-02,\n",
       "        2.17542205e-02, 2.79491310e-02, 2.20816471e-02, 3.00839522e-02,\n",
       "        2.31687033e-02, 3.15639202e-02, 2.28150826e-02, 3.05816405e-02,\n",
       "        2.10731733e-02, 2.97958168e-02, 1.89514492e-02, 2.84861106e-02,\n",
       "        1.83096931e-02, 2.75562191e-02, 1.61617749e-02, 2.54999804e-02,\n",
       "        1.50092334e-02, 2.35747122e-02, 1.39090802e-02, 2.34175474e-02,\n",
       "        1.26779563e-02, 2.22781030e-02, 1.23374327e-02, 2.12303380e-02,\n",
       "        1.12110854e-02, 2.00777966e-02, 1.12765707e-02, 1.88597698e-02,\n",
       "        1.05562322e-02, 1.62010661e-02, 9.92757325e-03, 1.62796485e-02,\n",
       "        8.80122589e-03, 1.44853509e-02, 8.19876102e-03, 1.34899742e-02,\n",
       "        7.05931660e-03, 1.15254148e-02, 6.03774573e-03, 1.03859704e-02,\n",
       "        5.23882493e-03, 9.03697301e-03, 4.13867170e-03, 8.02849921e-03,\n",
       "        3.44452739e-03, 6.39136642e-03, 2.54083009e-03, 5.17333962e-03,\n",
       "        2.48844184e-03, 4.36132176e-03, 1.72881223e-03, 3.53620683e-03,\n",
       "        1.45377392e-03, 3.19568321e-03, 1.11325030e-03, 2.18720941e-03,\n",
       "        6.67950179e-04, 1.82049166e-03, 8.64406114e-04, 1.46687098e-03,\n",
       "        3.40523621e-04, 1.02157086e-03, 2.88135371e-04, 8.90600238e-04,\n",
       "        1.96455935e-04, 4.97688368e-04, 5.23882493e-05, 4.71494244e-04,\n",
       "        1.57164748e-04, 2.09552997e-04, 6.54853116e-05, 2.35747122e-04,\n",
       "        1.83358873e-04, 1.30970623e-04, 3.92911870e-05, 9.16794363e-05,\n",
       "        1.30970623e-05, 1.30970623e-04, 1.30970623e-05, 2.61941247e-05,\n",
       "        5.23882493e-05, 2.61941247e-05, 1.30970623e-05, 1.30970623e-05]))"
      ]
     },
     "execution_count": 9,
     "metadata": {},
     "output_type": "execute_result"
    }
   ],
   "source": [
    "count = Counter([g.number_of_nodes() for g in graphs])  # 统计词频\n",
    "\n",
    "n = np.array(list(count.keys()))\n",
    "perm = n.argsort()\n",
    "n = n[perm]\n",
    "val = np.array(list(count.values()))[perm]\n",
    "n,val/sum(val)"
   ]
  }
 ],
 "metadata": {
  "kernelspec": {
   "display_name": "MHdiff",
   "language": "python",
   "name": "python3"
  },
  "language_info": {
   "codemirror_mode": {
    "name": "ipython",
    "version": 3
   },
   "file_extension": ".py",
   "mimetype": "text/x-python",
   "name": "python",
   "nbconvert_exporter": "python",
   "pygments_lexer": "ipython3",
   "version": "3.10.15"
  }
 },
 "nbformat": 4,
 "nbformat_minor": 2
}
